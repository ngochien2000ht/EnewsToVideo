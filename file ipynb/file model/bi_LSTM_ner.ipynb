{
 "cells": [
  {
   "cell_type": "code",
   "execution_count": 1,
   "metadata": {
    "id": "BvPkzPEqiLau"
   },
   "outputs": [],
   "source": [
    "import pandas as pd\n",
    "import numpy as np\n",
    "import re\n",
    "import string\n",
    "import joblib \n",
    "import seaborn as sns\n",
    "import matplotlib.pyplot as plt"
   ]
  },
  {
   "cell_type": "code",
   "execution_count": 2,
   "metadata": {
    "id": "8plu4qeLiLdc"
   },
   "outputs": [],
   "source": [
    "data_train = pd.read_excel(\"/content/Data_train_v2.xlsx\")\n",
    "data_dev = pd.read_excel(\"/content/Data_dev_v2.xlsx\")\n",
    "data_test = pd.read_excel(\"/content/Data_test_v2.xlsx\")"
   ]
  },
  {
   "cell_type": "code",
   "execution_count": 3,
   "metadata": {
    "id": "PqLHWI-rlnkp"
   },
   "outputs": [],
   "source": [
    "data_train.rename(columns = {'Tag':'Tag_raw'}, inplace = True)\n",
    "data_train.rename(columns = {'Tag_IOB': 'Tag'}, inplace = True)\n",
    "data_dev.rename(columns = {'Tag':'Tag_raw'}, inplace = True)\n",
    "data_dev.rename(columns = {'Tag_IOB': 'Tag'}, inplace = True)\n",
    "data_test.rename(columns = {'Tag':'Tag_raw'}, inplace = True)\n",
    "data_test.rename(columns = {'Tag_IOB': 'Tag'}, inplace = True)\n",
    "data_train['Tag'] = data_train['Tag'].fillna('O')\n",
    "data_dev['Tag'] = data_dev['Tag'].fillna('O')\n",
    "data_test['Tag'] = data_test['Tag'].fillna('O')"
   ]
  },
  {
   "cell_type": "code",
   "execution_count": 4,
   "metadata": {
    "id": "AHp0qyl2GIl5"
   },
   "outputs": [],
   "source": [
    "data_train['Word'] = data_train['Word'].astype(str)\n",
    "data_dev['Word'] = data_dev['Word'].astype(str)\n",
    "data_test['Word'] = data_test['Word'].astype(str)"
   ]
  },
  {
   "cell_type": "code",
   "execution_count": 5,
   "metadata": {
    "id": "1zht8breiLgM"
   },
   "outputs": [],
   "source": [
    "data_full = pd.concat([data_train, data_dev, data_test])"
   ]
  },
  {
   "cell_type": "code",
   "execution_count": 6,
   "metadata": {
    "colab": {
     "base_uri": "https://localhost:8080/",
     "height": 206
    },
    "id": "-637dU98iLi1",
    "outputId": "3f1c61fe-97c2-4717-ea9d-d56eacbe59aa"
   },
   "outputs": [
    {
     "data": {
      "text/html": [
       "\n",
       "  <div id=\"df-608cdff1-af43-409d-8386-4af3473cd6fa\">\n",
       "    <div class=\"colab-df-container\">\n",
       "      <div>\n",
       "<style scoped>\n",
       "    .dataframe tbody tr th:only-of-type {\n",
       "        vertical-align: middle;\n",
       "    }\n",
       "\n",
       "    .dataframe tbody tr th {\n",
       "        vertical-align: top;\n",
       "    }\n",
       "\n",
       "    .dataframe thead th {\n",
       "        text-align: right;\n",
       "    }\n",
       "</style>\n",
       "<table border=\"1\" class=\"dataframe\">\n",
       "  <thead>\n",
       "    <tr style=\"text-align: right;\">\n",
       "      <th></th>\n",
       "      <th>Unnamed: 0</th>\n",
       "      <th>Word</th>\n",
       "      <th>Tag_raw</th>\n",
       "      <th>Sentence #</th>\n",
       "      <th>Tag</th>\n",
       "    </tr>\n",
       "  </thead>\n",
       "  <tbody>\n",
       "    <tr>\n",
       "      <th>0</th>\n",
       "      <td>0</td>\n",
       "      <td>Miều</td>\n",
       "      <td>ORGANIZATION</td>\n",
       "      <td>0</td>\n",
       "      <td>B-ORGANIZATION</td>\n",
       "    </tr>\n",
       "    <tr>\n",
       "      <th>1</th>\n",
       "      <td>1</td>\n",
       "      <td>Fashionista</td>\n",
       "      <td>ORGANIZATION</td>\n",
       "      <td>0</td>\n",
       "      <td>I-ORGANIZATION</td>\n",
       "    </tr>\n",
       "    <tr>\n",
       "      <th>2</th>\n",
       "      <td>2</td>\n",
       "      <td>hiện</td>\n",
       "      <td>O</td>\n",
       "      <td>0</td>\n",
       "      <td>O</td>\n",
       "    </tr>\n",
       "    <tr>\n",
       "      <th>3</th>\n",
       "      <td>3</td>\n",
       "      <td>có</td>\n",
       "      <td>O</td>\n",
       "      <td>0</td>\n",
       "      <td>O</td>\n",
       "    </tr>\n",
       "    <tr>\n",
       "      <th>4</th>\n",
       "      <td>4</td>\n",
       "      <td>5</td>\n",
       "      <td>O</td>\n",
       "      <td>0</td>\n",
       "      <td>O</td>\n",
       "    </tr>\n",
       "  </tbody>\n",
       "</table>\n",
       "</div>\n",
       "      <button class=\"colab-df-convert\" onclick=\"convertToInteractive('df-608cdff1-af43-409d-8386-4af3473cd6fa')\"\n",
       "              title=\"Convert this dataframe to an interactive table.\"\n",
       "              style=\"display:none;\">\n",
       "        \n",
       "  <svg xmlns=\"http://www.w3.org/2000/svg\" height=\"24px\"viewBox=\"0 0 24 24\"\n",
       "       width=\"24px\">\n",
       "    <path d=\"M0 0h24v24H0V0z\" fill=\"none\"/>\n",
       "    <path d=\"M18.56 5.44l.94 2.06.94-2.06 2.06-.94-2.06-.94-.94-2.06-.94 2.06-2.06.94zm-11 1L8.5 8.5l.94-2.06 2.06-.94-2.06-.94L8.5 2.5l-.94 2.06-2.06.94zm10 10l.94 2.06.94-2.06 2.06-.94-2.06-.94-.94-2.06-.94 2.06-2.06.94z\"/><path d=\"M17.41 7.96l-1.37-1.37c-.4-.4-.92-.59-1.43-.59-.52 0-1.04.2-1.43.59L10.3 9.45l-7.72 7.72c-.78.78-.78 2.05 0 2.83L4 21.41c.39.39.9.59 1.41.59.51 0 1.02-.2 1.41-.59l7.78-7.78 2.81-2.81c.8-.78.8-2.07 0-2.86zM5.41 20L4 18.59l7.72-7.72 1.47 1.35L5.41 20z\"/>\n",
       "  </svg>\n",
       "      </button>\n",
       "      \n",
       "  <style>\n",
       "    .colab-df-container {\n",
       "      display:flex;\n",
       "      flex-wrap:wrap;\n",
       "      gap: 12px;\n",
       "    }\n",
       "\n",
       "    .colab-df-convert {\n",
       "      background-color: #E8F0FE;\n",
       "      border: none;\n",
       "      border-radius: 50%;\n",
       "      cursor: pointer;\n",
       "      display: none;\n",
       "      fill: #1967D2;\n",
       "      height: 32px;\n",
       "      padding: 0 0 0 0;\n",
       "      width: 32px;\n",
       "    }\n",
       "\n",
       "    .colab-df-convert:hover {\n",
       "      background-color: #E2EBFA;\n",
       "      box-shadow: 0px 1px 2px rgba(60, 64, 67, 0.3), 0px 1px 3px 1px rgba(60, 64, 67, 0.15);\n",
       "      fill: #174EA6;\n",
       "    }\n",
       "\n",
       "    [theme=dark] .colab-df-convert {\n",
       "      background-color: #3B4455;\n",
       "      fill: #D2E3FC;\n",
       "    }\n",
       "\n",
       "    [theme=dark] .colab-df-convert:hover {\n",
       "      background-color: #434B5C;\n",
       "      box-shadow: 0px 1px 3px 1px rgba(0, 0, 0, 0.15);\n",
       "      filter: drop-shadow(0px 1px 2px rgba(0, 0, 0, 0.3));\n",
       "      fill: #FFFFFF;\n",
       "    }\n",
       "  </style>\n",
       "\n",
       "      <script>\n",
       "        const buttonEl =\n",
       "          document.querySelector('#df-608cdff1-af43-409d-8386-4af3473cd6fa button.colab-df-convert');\n",
       "        buttonEl.style.display =\n",
       "          google.colab.kernel.accessAllowed ? 'block' : 'none';\n",
       "\n",
       "        async function convertToInteractive(key) {\n",
       "          const element = document.querySelector('#df-608cdff1-af43-409d-8386-4af3473cd6fa');\n",
       "          const dataTable =\n",
       "            await google.colab.kernel.invokeFunction('convertToInteractive',\n",
       "                                                     [key], {});\n",
       "          if (!dataTable) return;\n",
       "\n",
       "          const docLinkHtml = 'Like what you see? Visit the ' +\n",
       "            '<a target=\"_blank\" href=https://colab.research.google.com/notebooks/data_table.ipynb>data table notebook</a>'\n",
       "            + ' to learn more about interactive tables.';\n",
       "          element.innerHTML = '';\n",
       "          dataTable['output_type'] = 'display_data';\n",
       "          await google.colab.output.renderOutput(dataTable, element);\n",
       "          const docLink = document.createElement('div');\n",
       "          docLink.innerHTML = docLinkHtml;\n",
       "          element.appendChild(docLink);\n",
       "        }\n",
       "      </script>\n",
       "    </div>\n",
       "  </div>\n",
       "  "
      ],
      "text/plain": [
       "   Unnamed: 0         Word       Tag_raw  Sentence #             Tag\n",
       "0           0         Miều  ORGANIZATION           0  B-ORGANIZATION\n",
       "1           1  Fashionista  ORGANIZATION           0  I-ORGANIZATION\n",
       "2           2         hiện             O           0               O\n",
       "3           3           có             O           0               O\n",
       "4           4            5             O           0               O"
      ]
     },
     "execution_count": 6,
     "metadata": {},
     "output_type": "execute_result"
    }
   ],
   "source": [
    "data_dev.head()"
   ]
  },
  {
   "cell_type": "code",
   "execution_count": 7,
   "metadata": {
    "colab": {
     "base_uri": "https://localhost:8080/"
    },
    "id": "BFbm7UbziLld",
    "outputId": "08bf8076-63b6-4977-80e0-ac794df842bd"
   },
   "outputs": [
    {
     "data": {
      "text/plain": [
       "22267"
      ]
     },
     "execution_count": 7,
     "metadata": {},
     "output_type": "execute_result"
    }
   ],
   "source": [
    "words = list(set(data_full[\"Word\"].values))\n",
    "# words.append(\"ENDPAD\")\n",
    "n_words = len(words); n_words"
   ]
  },
  {
   "cell_type": "code",
   "execution_count": 8,
   "metadata": {
    "colab": {
     "base_uri": "https://localhost:8080/"
    },
    "id": "NhWBPy2giLn9",
    "outputId": "b4e38bb8-98cb-41e3-d0b7-f8cc0f2fc0a7"
   },
   "outputs": [
    {
     "data": {
      "text/plain": [
       "11"
      ]
     },
     "execution_count": 8,
     "metadata": {},
     "output_type": "execute_result"
    }
   ],
   "source": [
    "## Tạo bộ tag\n",
    "tags = list(set(data_full[\"Tag\"].values))\n",
    "n_tags = len(tags); n_tags"
   ]
  },
  {
   "cell_type": "code",
   "execution_count": 9,
   "metadata": {
    "colab": {
     "base_uri": "https://localhost:8080/"
    },
    "id": "z0C8GgGiIqcS",
    "outputId": "34d82abd-aad0-47a1-a208-71ae0dba02ec"
   },
   "outputs": [
    {
     "data": {
      "text/plain": [
       "87.99276497472586"
      ]
     },
     "execution_count": 9,
     "metadata": {},
     "output_type": "execute_result"
    }
   ],
   "source": [
    "col_1 = data_full[\"Tag\"]\n",
    "\n",
    "# Đếm số lần xuất hiện của 'A'\n",
    "count_a = col_1.value_counts()['O']\n",
    "\n",
    "# Tính phần trăm\n",
    "(count_a / len(col_1)) * 100"
   ]
  },
  {
   "cell_type": "code",
   "execution_count": 10,
   "metadata": {
    "colab": {
     "base_uri": "https://localhost:8080/",
     "height": 585
    },
    "id": "halxkzPM7qQj",
    "outputId": "8b47dfa0-aa72-4fb4-a9e5-54abdbf3d43b"
   },
   "outputs": [
    {
     "data": {
      "text/plain": [
       "<Axes: >"
      ]
     },
     "execution_count": 10,
     "metadata": {},
     "output_type": "execute_result"
    },
    {
     "data": {
      "image/png": "[encoded data removed]",
      "text/plain": [
       "<Figure size 1000x500 with 1 Axes>"
      ]
     },
     "metadata": {},
     "output_type": "display_data"
    }
   ],
   "source": [
    "data_full[\"Tag\"].value_counts().plot(kind=\"bar\", figsize=(10,5))"
   ]
  },
  {
   "cell_type": "code",
   "execution_count": 11,
   "metadata": {
    "colab": {
     "base_uri": "https://localhost:8080/"
    },
    "id": "RNPntwkWiLs_",
    "outputId": "85b08522-8afc-4577-8585-c43ea88f6bd2"
   },
   "outputs": [
    {
     "data": {
      "text/plain": [
       "['I-PERSONTYPE',\n",
       " 'B-PRODUCT',\n",
       " 'B-PERSON',\n",
       " 'B-PERSONTYPE',\n",
       " 'I-PRODUCT',\n",
       " 'B-ORGANIZATION',\n",
       " 'I-PERSON',\n",
       " 'O',\n",
       " 'I-LOCATION',\n",
       " 'B-LOCATION',\n",
       " 'I-ORGANIZATION']"
      ]
     },
     "execution_count": 11,
     "metadata": {},
     "output_type": "execute_result"
    }
   ],
   "source": [
    "tags"
   ]
  },
  {
   "cell_type": "code",
   "execution_count": 12,
   "metadata": {
    "id": "2s6O1ChUiLu7"
   },
   "outputs": [],
   "source": [
    "class SentenceGetter(object):\n",
    "    \n",
    "    def __init__(self, data):\n",
    "        self.n_sent = 1\n",
    "        self.data = data\n",
    "        self.empty = False\n",
    "        agg_func = lambda s: [(w, t) for w, t in zip(s[\"Word\"].values.tolist(),\n",
    "                                                    s[\"Tag\"].values.tolist())]\n",
    "        self.grouped = self.data.groupby(\"Sentence #\").apply(agg_func)\n",
    "        self.sentences = [s for s in self.grouped]\n",
    "    \n",
    "    def get_next(self):\n",
    "        try:\n",
    "            s = self.grouped[\"Sentence: {}\".format(self.n_sent)]\n",
    "            self.n_sent += 1\n",
    "            return s\n",
    "        except:\n",
    "            return None"
   ]
  },
  {
   "cell_type": "code",
   "execution_count": 13,
   "metadata": {
    "id": "uViD2uUtiLxb"
   },
   "outputs": [],
   "source": [
    "getter_train = SentenceGetter(data_train)\n",
    "getter_dev = SentenceGetter(data_dev)"
   ]
  },
  {
   "cell_type": "code",
   "execution_count": 14,
   "metadata": {
    "id": "GVUdZDNjiL0D"
   },
   "outputs": [],
   "source": [
    "sent_train = getter_train.get_next()\n",
    "sent_dev = getter_dev.get_next()"
   ]
  },
  {
   "cell_type": "code",
   "execution_count": 15,
   "metadata": {
    "id": "g4uA470si1_v"
   },
   "outputs": [],
   "source": [
    "sentences_train = getter_train.sentences\n",
    "sentences_dev = getter_dev.sentences"
   ]
  },
  {
   "cell_type": "code",
   "execution_count": 16,
   "metadata": {
    "colab": {
     "base_uri": "https://localhost:8080/"
    },
    "id": "WcnLT6WRi1-e",
    "outputId": "a578b198-e277-480d-a79f-d55a2677d5ac"
   },
   "outputs": [
    {
     "data": {
      "text/plain": [
       "[('Sáng', 'O'),\n",
       " ('30-6', 'O'),\n",
       " (',', 'O'),\n",
       " ('văn', 'O'),\n",
       " ('phòng', 'O'),\n",
       " ('đại', 'O'),\n",
       " ('diện', 'O'),\n",
       " ('báo', 'B-ORGANIZATION'),\n",
       " ('Tuổi', 'I-ORGANIZATION'),\n",
       " ('Trẻ', 'I-ORGANIZATION'),\n",
       " ('tại', 'O'),\n",
       " ('Huế', 'B-LOCATION'),\n",
       " ('(', 'O'),\n",
       " ('380', 'B-LOCATION'),\n",
       " ('Nguyễn', 'I-LOCATION'),\n",
       " ('Trung', 'I-LOCATION'),\n",
       " ('Trực', 'I-LOCATION'),\n",
       " (',', 'O'),\n",
       " ('P', 'B-LOCATION'),\n",
       " ('.', 'I-LOCATION'),\n",
       " ('Vĩnh', 'I-LOCATION'),\n",
       " ('Lạc', 'I-LOCATION'),\n",
       " (',', 'O'),\n",
       " ('Rạch', 'B-LOCATION'),\n",
       " ('Giá', 'I-LOCATION'),\n",
       " (',', 'O'),\n",
       " ('Kiên', 'B-LOCATION'),\n",
       " ('Giang', 'I-LOCATION'),\n",
       " (')', 'O'),\n",
       " ('đã', 'O'),\n",
       " ('làm', 'O'),\n",
       " ('lễ', 'O'),\n",
       " ('khánh', 'O'),\n",
       " ('thành', 'O'),\n",
       " ('và', 'O'),\n",
       " ('chính', 'O'),\n",
       " ('thức', 'O'),\n",
       " ('đưa', 'O'),\n",
       " ('vào', 'O'),\n",
       " ('sử', 'O'),\n",
       " ('dụng', 'O'),\n",
       " ('.', 'O'),\n",
       " ('Đây', 'O'),\n",
       " ('là', 'O'),\n",
       " ('văn', 'O'),\n",
       " ('phòng', 'O'),\n",
       " ('thứ', 'O'),\n",
       " ('8', 'O'),\n",
       " ('của', 'O'),\n",
       " ('báo', 'B-ORGANIZATION'),\n",
       " ('Tuổi', 'I-ORGANIZATION'),\n",
       " ('Trẻ', 'I-ORGANIZATION'),\n",
       " ('được', 'O'),\n",
       " ('xây', 'O'),\n",
       " ('dựng', 'O'),\n",
       " ('mới', 'O'),\n",
       " ('trong', 'O'),\n",
       " ('hệ', 'O'),\n",
       " ('thống', 'O'),\n",
       " ('11', 'O'),\n",
       " ('văn', 'O'),\n",
       " ('phòng', 'O'),\n",
       " ('đại', 'O'),\n",
       " ('diện', 'O'),\n",
       " ('báo', 'B-ORGANIZATION'),\n",
       " ('Tuổi', 'I-ORGANIZATION'),\n",
       " ('Trẻ', 'I-ORGANIZATION'),\n",
       " ('trên', 'O'),\n",
       " ('mọi', 'O'),\n",
       " ('vùng', 'O'),\n",
       " ('miền', 'O'),\n",
       " ('đất', 'O'),\n",
       " ('nước', 'O'),\n",
       " ('.', 'O')]"
      ]
     },
     "execution_count": 16,
     "metadata": {},
     "output_type": "execute_result"
    }
   ],
   "source": [
    "sentences_train[1]"
   ]
  },
  {
   "cell_type": "code",
   "execution_count": 17,
   "metadata": {
    "colab": {
     "base_uri": "https://localhost:8080/",
     "height": 449
    },
    "id": "oXl3asuW0MFF",
    "outputId": "14f588b5-2c03-45d7-ea7f-10982e8150f7"
   },
   "outputs": [
    {
     "data": {
      "image/png": "[encoded data removed]",
      "text/plain": [
       "<Figure size 640x480 with 1 Axes>"
      ]
     },
     "metadata": {},
     "output_type": "display_data"
    }
   ],
   "source": [
    "plt.hist([len(s) for s in sentences_train],bins= 50)\n",
    "plt.xlabel(\"Length of Sentences\")\n",
    "plt.show()"
   ]
  },
  {
   "cell_type": "code",
   "execution_count": 18,
   "metadata": {
    "colab": {
     "base_uri": "https://localhost:8080/"
    },
    "id": "fwwMq_0ki16l",
    "outputId": "7c29f965-252b-488e-e507-79fac0f79455"
   },
   "outputs": [
    {
     "data": {
      "text/plain": [
       "Unnamed: 0    1011\n",
       "Word          1011\n",
       "Tag_raw       1011\n",
       "Tag           1011\n",
       "dtype: int64"
      ]
     },
     "execution_count": 18,
     "metadata": {},
     "output_type": "execute_result"
    }
   ],
   "source": [
    "data_full.groupby(['Sentence #']).count().max()"
   ]
  },
  {
   "cell_type": "code",
   "execution_count": 19,
   "metadata": {
    "colab": {
     "base_uri": "https://localhost:8080/"
    },
    "id": "I5HKjnR4i14N",
    "outputId": "e4d420a2-d6e0-4841-c2e3-483f5688775f"
   },
   "outputs": [
    {
     "name": "stdout",
     "output_type": "stream",
     "text": [
      "73.0\n",
      "80.0\n",
      "123.0\n"
     ]
    }
   ],
   "source": [
    "x = data_train.groupby('Sentence #').count()\n",
    "\n",
    "#Mức phân vị thứ 75, 80, 95 \n",
    "print(x['Word'].quantile(q = 0.75))\n",
    "print(x['Word'].quantile(q = 0.80))\n",
    "print(x['Word'].quantile(q = 0.95))"
   ]
  },
  {
   "cell_type": "code",
   "execution_count": 20,
   "metadata": {
    "id": "fc_n23D_i113"
   },
   "outputs": [],
   "source": [
    "\n",
    "# word2idx = {w: i + 1 for i, w in enumerate(words)}\n",
    "# tag2idx = {t: i for i, t in enumerate(tags)}\n",
    "# idx2tag = {i: w for w, i in tag2idx.items()}\n",
    "\n",
    "# idx2tag"
   ]
  },
  {
   "cell_type": "code",
   "execution_count": 21,
   "metadata": {
    "id": "4aRBdu3dEnzB"
   },
   "outputs": [],
   "source": [
    "max_len = 100\n",
    "word2idx = {word: idx + 2 for idx, word in enumerate(words)}\n",
    "word2idx[\"--UNKNOWN_WORD--\"]=0\n",
    "word2idx[\"--PADDING--\"]=1\n",
    "index2word = {idx: word for word, idx in word2idx.items()}"
   ]
  },
  {
   "cell_type": "code",
   "execution_count": 22,
   "metadata": {
    "id": "gRQGM5ywFa2i"
   },
   "outputs": [],
   "source": [
    "tag2idx = {tag: idx + 1 for idx, tag in enumerate(tags)}\n",
    "tag2idx[\"--PADDING--\"] = 0\n",
    "\n",
    "index2tag = {idx: word for word, idx in tag2idx.items()}"
   ]
  },
  {
   "cell_type": "code",
   "execution_count": 23,
   "metadata": {
    "colab": {
     "base_uri": "https://localhost:8080/"
    },
    "id": "vFiXf09rXLMF",
    "outputId": "906d5d77-e289-4f18-94e3-b9c11106d4ca"
   },
   "outputs": [
    {
     "data": {
      "text/plain": [
       "{'I-PERSONTYPE': 1,\n",
       " 'B-PRODUCT': 2,\n",
       " 'B-PERSON': 3,\n",
       " 'B-PERSONTYPE': 4,\n",
       " 'I-PRODUCT': 5,\n",
       " 'B-ORGANIZATION': 6,\n",
       " 'I-PERSON': 7,\n",
       " 'O': 8,\n",
       " 'I-LOCATION': 9,\n",
       " 'B-LOCATION': 10,\n",
       " 'I-ORGANIZATION': 11,\n",
       " '--PADDING--': 0}"
      ]
     },
     "execution_count": 23,
     "metadata": {},
     "output_type": "execute_result"
    }
   ],
   "source": [
    "tag2idx"
   ]
  },
  {
   "cell_type": "code",
   "execution_count": 24,
   "metadata": {
    "colab": {
     "base_uri": "https://localhost:8080/"
    },
    "id": "exfVgpW7Exbp",
    "outputId": "58b54209-e0b4-4d2d-9e53-a5c7b7c5d89b"
   },
   "outputs": [
    {
     "name": "stdout",
     "output_type": "stream",
     "text": [
      "--UNKNOWN_WORD-- 0\n",
      "--PADDING-- 1\n",
      "GHz 2\n",
      "29/1 3\n",
      "Phuket 4\n",
      "\"Trong 5\n",
      "HSMT 6\n",
      "Catalan 7\n",
      "Nuôi 8\n",
      "loang 9\n"
     ]
    }
   ],
   "source": [
    "import operator\n",
    "for k,v in sorted(word2idx.items(), key=operator.itemgetter(1))[:10]:\n",
    "    print(k,v)"
   ]
  },
  {
   "cell_type": "code",
   "execution_count": 25,
   "metadata": {
    "id": "K8FGlzSbi1zz"
   },
   "outputs": [],
   "source": [
    "import pickle\n",
    "with open('tag2idx.pkl', 'wb') as handle:\n",
    "    pickle.dump(tag2idx, handle, protocol=pickle.HIGHEST_PROTOCOL)\n",
    "with open('word2idx', 'wb') as handle:\n",
    "    pickle.dump(word2idx, handle, protocol=pickle.HIGHEST_PROTOCOL)"
   ]
  },
  {
   "cell_type": "code",
   "execution_count": 26,
   "metadata": {
    "id": "zj5lWpq_i1xa"
   },
   "outputs": [],
   "source": [
    "from keras.utils import pad_sequences\n",
    "\n",
    "X_train = [[word2idx[w[0]] for w in s] for s in sentences_train]\n",
    "X_train = pad_sequences(maxlen=max_len, sequences=X_train, padding=\"post\", value=n_words-1)\n",
    "\n",
    "X_dev = [[word2idx[w[0]] for w in s] for s in sentences_dev]\n",
    "X_dev = pad_sequences(maxlen=max_len, sequences=X_dev, padding=\"post\", value=n_words-1)"
   ]
  },
  {
   "cell_type": "code",
   "execution_count": 27,
   "metadata": {
    "id": "C5tY-CFXi1sp"
   },
   "outputs": [],
   "source": [
    "y_train = [[tag2idx[w[1]] for w in s] for s in sentences_train]\n",
    "y_train = pad_sequences(maxlen=max_len, sequences=y_train, padding=\"post\", value=tag2idx[\"O\"])\n",
    "\n",
    "y_dev = [[tag2idx[w[1]] for w in s] for s in sentences_dev]\n",
    "y_dev = pad_sequences(maxlen=max_len, sequences=y_dev, padding=\"post\", value=tag2idx[\"O\"])"
   ]
  },
  {
   "cell_type": "code",
   "execution_count": 28,
   "metadata": {
    "id": "yR4JgH_SnPnc"
   },
   "outputs": [],
   "source": [
    "from keras.utils import to_categorical\n",
    "y_train = [to_categorical(i, num_classes=n_tags+1) for i in y_train]\n",
    "y_dev = [to_categorical(i, num_classes=n_tags+1) for i in y_dev]"
   ]
  },
  {
   "cell_type": "code",
   "execution_count": 29,
   "metadata": {
    "id": "TKtBgWTTnTd9"
   },
   "outputs": [],
   "source": [
    "import keras\n",
    "from keras.models import Model,Sequential\n",
    "from keras.layers import LSTM, Embedding, Dense, Input, TimeDistributed, Dropout, Bidirectional\n",
    "import keras as k"
   ]
  },
  {
   "cell_type": "code",
   "execution_count": 30,
   "metadata": {
    "id": "Wum9YStcpzIo"
   },
   "outputs": [],
   "source": [
    "from keras.layers import TimeDistributed, Conv1D, Dense, Embedding, Input, Dropout, LSTM, Bidirectional, MaxPooling1D, \\\n",
    "    Flatten, concatenate\n",
    "from keras.utils.vis_utils import plot_model\n",
    "from keras.initializers import RandomUniform\n",
    "from keras.optimizers import SGD, Nadam"
   ]
  },
  {
   "cell_type": "code",
   "execution_count": 31,
   "metadata": {
    "id": "l8onrXVa3pfd"
   },
   "outputs": [],
   "source": [
    "from keras.layers import Dense, Input, LSTM, Embedding, Dropout, Activation, Conv1D, GRU\n",
    "from keras.layers import Bidirectional, GlobalMaxPool1D, MaxPooling1D, Add, Flatten\n",
    "from keras.layers import GlobalAveragePooling1D, GlobalMaxPooling1D, concatenate, SpatialDropout1D\n",
    "from keras.models import Model, load_model"
   ]
  },
  {
   "cell_type": "code",
   "execution_count": 32,
   "metadata": {
    "colab": {
     "base_uri": "https://localhost:8080/"
    },
    "id": "EWWiIcKQywpG",
    "outputId": "393de8a1-23b9-4055-846e-33ec8fb2da1f"
   },
   "outputs": [
    {
     "name": "stdout",
     "output_type": "stream",
     "text": [
      "Model: \"model\"\n",
      "_________________________________________________________________\n",
      " Layer (type)                Output Shape              Param #   \n",
      "=================================================================\n",
      " input_1 (InputLayer)        [(None, 100)]             0         \n",
      "                                                                 \n",
      " embedding (Embedding)       (None, 100, 100)          2226900   \n",
      "                                                                 \n",
      " dropout (Dropout)           (None, 100, 100)          0         \n",
      "                                                                 \n",
      " bidirectional (Bidirectiona  (None, 100, 256)         234496    \n",
      " l)                                                              \n",
      "                                                                 \n",
      " time_distributed (TimeDistr  (None, 100, 12)          3084      \n",
      " ibuted)                                                         \n",
      "                                                                 \n",
      "=================================================================\n",
      "Total params: 2,464,480\n",
      "Trainable params: 2,464,480\n",
      "Non-trainable params: 0\n",
      "_________________________________________________________________\n"
     ]
    }
   ],
   "source": [
    "input_word = Input(shape = (max_len,))\n",
    "model = Embedding(input_dim = n_words+2,output_dim = max_len,input_length = max_len)(input_word)\n",
    "model = Dropout(0.1)(model)\n",
    "model = Bidirectional(LSTM(units=128,return_sequences = True, recurrent_dropout = 0.1))(model)\n",
    "out = TimeDistributed(Dense(n_tags+1,activation = 'softmax'))(model)\n",
    "model = Model(input_word,out)\n",
    "model.summary()"
   ]
  },
  {
   "cell_type": "code",
   "execution_count": 33,
   "metadata": {
    "id": "nl7uJCBA2bol"
   },
   "outputs": [],
   "source": [
    "from keras.utils import plot_model"
   ]
  },
  {
   "cell_type": "code",
   "execution_count": 34,
   "metadata": {
    "colab": {
     "base_uri": "https://localhost:8080/",
     "height": 533
    },
    "id": "8ozFLOmX1vQ2",
    "outputId": "4a16563b-da3b-4a0a-feb4-56cb64524909"
   },
   "outputs": [
    {
     "data": {
      "image/png": "[encoded data removed]",
      "text/plain": [
       "<IPython.core.display.Image object>"
      ]
     },
     "execution_count": 34,
     "metadata": {},
     "output_type": "execute_result"
    }
   ],
   "source": [
    "dot_img_file = '/tmp/model_1.png'\n",
    "plot_model(model, to_file=dot_img_file, show_shapes=True)"
   ]
  },
  {
   "cell_type": "code",
   "execution_count": 35,
   "metadata": {
    "id": "t8hfI7b1nTWg"
   },
   "outputs": [],
   "source": [
    "adam = k.optimizers.Adam(learning_rate=0.01, beta_1=0.9, beta_2=0.99)\n",
    "model.compile(optimizer = 'adam',loss = 'categorical_crossentropy',metrics = ['accuracy'])"
   ]
  },
  {
   "cell_type": "code",
   "execution_count": 36,
   "metadata": {
    "colab": {
     "base_uri": "https://localhost:8080/"
    },
    "id": "MRwi9CpCn_Lq",
    "outputId": "162e2ab2-4aaf-4eac-da51-304a30898d9c"
   },
   "outputs": [
    {
     "name": "stdout",
     "output_type": "stream",
     "text": [
      "Epoch 1/10\n",
      "102/102 [==============================] - 185s 2s/step - loss: 0.5000 - accuracy: 0.9254 - val_loss: 0.2337 - val_accuracy: 0.9456\n",
      "Epoch 2/10\n",
      "102/102 [==============================] - 185s 2s/step - loss: 0.2096 - accuracy: 0.9410 - val_loss: 0.1788 - val_accuracy: 0.9512\n",
      "Epoch 3/10\n",
      "102/102 [==============================] - 182s 2s/step - loss: 0.1629 - accuracy: 0.9512 - val_loss: 0.1599 - val_accuracy: 0.9560\n",
      "Epoch 4/10\n",
      "102/102 [==============================] - 180s 2s/step - loss: 0.1257 - accuracy: 0.9640 - val_loss: 0.1386 - val_accuracy: 0.9652\n",
      "Epoch 5/10\n",
      "102/102 [==============================] - 180s 2s/step - loss: 0.0915 - accuracy: 0.9747 - val_loss: 0.1311 - val_accuracy: 0.9693\n",
      "Epoch 6/10\n",
      "102/102 [==============================] - 182s 2s/step - loss: 0.0726 - accuracy: 0.9798 - val_loss: 0.1208 - val_accuracy: 0.9718\n",
      "Epoch 7/10\n",
      "102/102 [==============================] - 177s 2s/step - loss: 0.0607 - accuracy: 0.9827 - val_loss: 0.1170 - val_accuracy: 0.9733\n",
      "Epoch 8/10\n",
      "102/102 [==============================] - 184s 2s/step - loss: 0.0523 - accuracy: 0.9848 - val_loss: 0.1151 - val_accuracy: 0.9732\n",
      "Epoch 9/10\n",
      "102/102 [==============================] - 187s 2s/step - loss: 0.0463 - accuracy: 0.9862 - val_loss: 0.1167 - val_accuracy: 0.9744\n",
      "Epoch 10/10\n",
      "102/102 [==============================] - 198s 2s/step - loss: 0.0413 - accuracy: 0.9875 - val_loss: 0.1162 - val_accuracy: 0.9747\n"
     ]
    }
   ],
   "source": [
    "history = model.fit(X_train, np.array(y_train), batch_size=128, epochs=10,\n",
    "                    validation_data=(X_dev, np.array(y_dev)), verbose=1)"
   ]
  },
  {
   "cell_type": "code",
   "execution_count": 37,
   "metadata": {
    "colab": {
     "base_uri": "https://localhost:8080/"
    },
    "id": "e9aPc4jFCraS",
    "outputId": "6d4d3d33-1db4-45f2-c5f2-6133002a2a24"
   },
   "outputs": [
    {
     "name": "stdout",
     "output_type": "stream",
     "text": [
      "Looking in indexes: https://pypi.org/simple, https://us-python.pkg.dev/colab-wheels/public/simple/\n",
      "Collecting plot_keras_history\n",
      "  Downloading plot_keras_history-1.1.38.tar.gz (11 kB)\n",
      "  Preparing metadata (setup.py) ... \u001b[?25l\u001b[?25hdone\n",
      "Requirement already satisfied: matplotlib in /usr/local/lib/python3.10/dist-packages (from plot_keras_history) (3.7.1)\n",
      "Requirement already satisfied: pandas in /usr/local/lib/python3.10/dist-packages (from plot_keras_history) (1.5.3)\n",
      "Requirement already satisfied: scipy in /usr/local/lib/python3.10/dist-packages (from plot_keras_history) (1.10.1)\n",
      "Collecting support_developer>=1.0.2 (from plot_keras_history)\n",
      "  Downloading support_developer-1.0.5.tar.gz (4.9 kB)\n",
      "  Preparing metadata (setup.py) ... \u001b[?25l\u001b[?25hdone\n",
      "Collecting sanitize_ml_labels>=1.0.48 (from plot_keras_history)\n",
      "  Downloading sanitize_ml_labels-1.0.50.tar.gz (322 kB)\n",
      "\u001b[2K     \u001b[90m━━━━━━━━━━━━━━━━━━━━━━━━━━━━━━━━━━━━━━━\u001b[0m \u001b[32m322.1/322.1 kB\u001b[0m \u001b[31m6.1 MB/s\u001b[0m eta \u001b[36m0:00:00\u001b[0m\n",
      "\u001b[?25h  Preparing metadata (setup.py) ... \u001b[?25l\u001b[?25hdone\n",
      "Collecting compress_json (from sanitize_ml_labels>=1.0.48->plot_keras_history)\n",
      "  Downloading compress_json-1.0.8.tar.gz (4.7 kB)\n",
      "  Preparing metadata (setup.py) ... \u001b[?25l\u001b[?25hdone\n",
      "Requirement already satisfied: contourpy>=1.0.1 in /usr/local/lib/python3.10/dist-packages (from matplotlib->plot_keras_history) (1.0.7)\n",
      "Requirement already satisfied: cycler>=0.10 in /usr/local/lib/python3.10/dist-packages (from matplotlib->plot_keras_history) (0.11.0)\n",
      "Requirement already satisfied: fonttools>=4.22.0 in /usr/local/lib/python3.10/dist-packages (from matplotlib->plot_keras_history) (4.39.3)\n",
      "Requirement already satisfied: kiwisolver>=1.0.1 in /usr/local/lib/python3.10/dist-packages (from matplotlib->plot_keras_history) (1.4.4)\n",
      "Requirement already satisfied: numpy>=1.20 in /usr/local/lib/python3.10/dist-packages (from matplotlib->plot_keras_history) (1.22.4)\n",
      "Requirement already satisfied: packaging>=20.0 in /usr/local/lib/python3.10/dist-packages (from matplotlib->plot_keras_history) (23.1)\n",
      "Requirement already satisfied: pillow>=6.2.0 in /usr/local/lib/python3.10/dist-packages (from matplotlib->plot_keras_history) (8.4.0)\n",
      "Requirement already satisfied: pyparsing>=2.3.1 in /usr/local/lib/python3.10/dist-packages (from matplotlib->plot_keras_history) (3.0.9)\n",
      "Requirement already satisfied: python-dateutil>=2.7 in /usr/local/lib/python3.10/dist-packages (from matplotlib->plot_keras_history) (2.8.2)\n",
      "Requirement already satisfied: pytz>=2020.1 in /usr/local/lib/python3.10/dist-packages (from pandas->plot_keras_history) (2022.7.1)\n",
      "Requirement already satisfied: six>=1.5 in /usr/local/lib/python3.10/dist-packages (from python-dateutil>=2.7->matplotlib->plot_keras_history) (1.16.0)\n",
      "Building wheels for collected packages: plot_keras_history, sanitize_ml_labels, support_developer, compress_json\n",
      "  Building wheel for plot_keras_history (setup.py) ... \u001b[?25l\u001b[?25hdone\n",
      "  Created wheel for plot_keras_history: filename=plot_keras_history-1.1.38-py3-none-any.whl size=9457 sha256=fc0c9347f37acbeceab6ee417ef2d71dc1b8f495f9cb2a016fccdfe0ea91c836\n",
      "  Stored in directory: /root/.cache/pip/wheels/2f/31/6c/bbc9703b7baa8bd3802a8aedd9e2f9e66941b0cf0d456ab4cc\n",
      "  Building wheel for sanitize_ml_labels (setup.py) ... \u001b[?25l\u001b[?25hdone\n",
      "  Created wheel for sanitize_ml_labels: filename=sanitize_ml_labels-1.0.50-py3-none-any.whl size=320501 sha256=515ca2d8324781e1f130f52b21747fd16e9ad5c7e6963d8e1d962f044d61f748\n",
      "  Stored in directory: /root/.cache/pip/wheels/b7/f3/5d/748143833c99806921d4e1182c248876b83464746ef1e46f1d\n",
      "  Building wheel for support_developer (setup.py) ... \u001b[?25l\u001b[?25hdone\n",
      "  Created wheel for support_developer: filename=support_developer-1.0.5-py3-none-any.whl size=5630 sha256=c217792c641cf74d97cb77a5590ad2e02b7461cb778a7c9dd791c4ca38522f30\n",
      "  Stored in directory: /root/.cache/pip/wheels/b6/72/c8/3054a5897ba0713dfa7a941364d68cbd42b0755c8e2ec1c18c\n",
      "  Building wheel for compress_json (setup.py) ... \u001b[?25l\u001b[?25hdone\n",
      "  Created wheel for compress_json: filename=compress_json-1.0.8-py3-none-any.whl size=4717 sha256=6ef8b4d533cac3a406c54110efb419ee908da717e841d0fea6a5964ed2eed4e4\n",
      "  Stored in directory: /root/.cache/pip/wheels/23/bf/70/8157c907edaa10b93c902b5e56f04e40ef00e0f0c62b277bf7\n",
      "Successfully built plot_keras_history sanitize_ml_labels support_developer compress_json\n",
      "Installing collected packages: support_developer, compress_json, sanitize_ml_labels, plot_keras_history\n",
      "Successfully installed compress_json-1.0.8 plot_keras_history-1.1.38 sanitize_ml_labels-1.0.50 support_developer-1.0.5\n"
     ]
    }
   ],
   "source": [
    "pip install plot_keras_history"
   ]
  },
  {
   "cell_type": "code",
   "execution_count": 38,
   "metadata": {
    "colab": {
     "base_uri": "https://localhost:8080/",
     "height": 597
    },
    "id": "RhFsV3ImBNiT",
    "outputId": "f448a461-f881-4073-d32e-4114c344868f"
   },
   "outputs": [
    {
     "data": {
      "text/plain": [
       "(<Figure size 1000x500 with 2 Axes>,\n",
       " array([<Axes: title={'center': 'Loss'}, xlabel='Epochs', ylabel='Loss'>,\n",
       "        <Axes: title={'center': 'Accuracy'}, xlabel='Epochs', ylabel='Accuracy'>],\n",
       "       dtype=object))"
      ]
     },
     "execution_count": 38,
     "metadata": {},
     "output_type": "execute_result"
    },
    {
     "data": {
      "image/png": "[encoded data removed]",
      "text/plain": [
       "<Figure size 1000x500 with 2 Axes>"
      ]
     },
     "metadata": {},
     "output_type": "display_data"
    }
   ],
   "source": [
    "from plot_keras_history import plot_history\n",
    "plot_history(history.history)"
   ]
  },
  {
   "cell_type": "code",
   "execution_count": 39,
   "metadata": {
    "colab": {
     "base_uri": "https://localhost:8080/"
    },
    "id": "j3pf6aWUBOsK",
    "outputId": "e7fec5f8-ac33-4e9d-85fc-55f89940f08a"
   },
   "outputs": [
    {
     "name": "stdout",
     "output_type": "stream",
     "text": [
      "79/79 [==============================] - 17s 212ms/step\n",
      "Accuracy: 0.9747/\n"
     ]
    }
   ],
   "source": [
    "y_pred = model.predict(X_dev)\n",
    "\n",
    "y_pred = np.argmax(y_pred, axis=2)\n",
    "\n",
    "y_test = np.argmax(y_dev, axis=2)\n",
    "\n",
    "accuracy = (y_pred == y_test).mean()\n",
    "\n",
    "print(\"Accuracy: {:.4f}/\".format(accuracy))"
   ]
  },
  {
   "cell_type": "code",
   "execution_count": 40,
   "metadata": {
    "colab": {
     "base_uri": "https://localhost:8080/"
    },
    "id": "lJVu1TSmAJfu",
    "outputId": "ac46d635-bb6b-4013-a7f1-1b13fe862e2f"
   },
   "outputs": [
    {
     "name": "stdout",
     "output_type": "stream",
     "text": [
      "Looking in indexes: https://pypi.org/simple, https://us-python.pkg.dev/colab-wheels/public/simple/\n",
      "Collecting seqeval\n",
      "  Downloading seqeval-1.2.2.tar.gz (43 kB)\n",
      "\u001b[2K     \u001b[90m━━━━━━━━━━━━━━━━━━━━━━━━━━━━━━━━━━━━━━━━\u001b[0m \u001b[32m43.6/43.6 kB\u001b[0m \u001b[31m2.4 MB/s\u001b[0m eta \u001b[36m0:00:00\u001b[0m\n",
      "\u001b[?25h  Preparing metadata (setup.py) ... \u001b[?25l\u001b[?25hdone\n",
      "Requirement already satisfied: numpy>=1.14.0 in /usr/local/lib/python3.10/dist-packages (from seqeval) (1.22.4)\n",
      "Requirement already satisfied: scikit-learn>=0.21.3 in /usr/local/lib/python3.10/dist-packages (from seqeval) (1.2.2)\n",
      "Requirement already satisfied: scipy>=1.3.2 in /usr/local/lib/python3.10/dist-packages (from scikit-learn>=0.21.3->seqeval) (1.10.1)\n",
      "Requirement already satisfied: joblib>=1.1.1 in /usr/local/lib/python3.10/dist-packages (from scikit-learn>=0.21.3->seqeval) (1.2.0)\n",
      "Requirement already satisfied: threadpoolctl>=2.0.0 in /usr/local/lib/python3.10/dist-packages (from scikit-learn>=0.21.3->seqeval) (3.1.0)\n",
      "Building wheels for collected packages: seqeval\n",
      "  Building wheel for seqeval (setup.py) ... \u001b[?25l\u001b[?25hdone\n",
      "  Created wheel for seqeval: filename=seqeval-1.2.2-py3-none-any.whl size=16165 sha256=7ce957105e1e2b352a09311d3e44ecde2613f068a08f2c401aca6cc2b9e39c8b\n",
      "  Stored in directory: /root/.cache/pip/wheels/1a/67/4a/ad4082dd7dfc30f2abfe4d80a2ed5926a506eb8a972b4767fa\n",
      "Successfully built seqeval\n",
      "Installing collected packages: seqeval\n",
      "Successfully installed seqeval-1.2.2\n"
     ]
    }
   ],
   "source": [
    "!pip install seqeval"
   ]
  },
  {
   "cell_type": "code",
   "execution_count": 41,
   "metadata": {
    "id": "vtvrcf6VAKNr"
   },
   "outputs": [],
   "source": [
    "from seqeval.metrics import precision_score, recall_score, f1_score, classification_report,accuracy_score"
   ]
  },
  {
   "cell_type": "code",
   "execution_count": 42,
   "metadata": {
    "colab": {
     "base_uri": "https://localhost:8080/"
    },
    "id": "ZJRK8JwfAMO-",
    "outputId": "58af9abb-629d-4fa9-ce0a-9f7123a2892e"
   },
   "outputs": [
    {
     "name": "stdout",
     "output_type": "stream",
     "text": [
      "79/79 [==============================] - 13s 169ms/step\n",
      "408/408 [==============================] - 53s 126ms/step\n"
     ]
    }
   ],
   "source": [
    "dev_pred = model.predict(X_dev, verbose=1)\n",
    "train_pred = model.predict(X_train, verbose=1)"
   ]
  },
  {
   "cell_type": "code",
   "execution_count": 43,
   "metadata": {
    "id": "yPQ9ZSH2AWQt"
   },
   "outputs": [],
   "source": [
    "def pred2label(pred):\n",
    "    out = []\n",
    "    for pred_i in pred:\n",
    "        out_i = []\n",
    "        for p in pred_i:\n",
    "            p_i = np.argmax(p)\n",
    "            out_i.append(index2tag[p_i].replace(\"PAD\", \"O\"))\n",
    "        out.append(out_i)\n",
    "    return out\n",
    "    \n",
    "dev_pred_labels = pred2label(dev_pred)\n",
    "dev_actual_labels = pred2label(y_dev)\n",
    "\n",
    "train_pred_labels = pred2label(train_pred)\n",
    "train_actual_labels = pred2label(y_train)"
   ]
  },
  {
   "cell_type": "code",
   "execution_count": 66,
   "metadata": {
    "colab": {
     "base_uri": "https://localhost:8080/"
    },
    "id": "BAIOZF1N4QWZ",
    "outputId": "e4d7e2a5-0092-4107-ec9e-a331c9c9016c"
   },
   "outputs": [
    {
     "name": "stdout",
     "output_type": "stream",
     "text": [
      "accuracy: 89.0%\n",
      "F1-score: 80.0%\n",
      "precision: 77.3%\n",
      "recall_score: 82.9%\n"
     ]
    }
   ],
   "source": [
    "print(\"accuracy: {:.1%}\".format(accuracy_score(train_actual_labels, train_pred_labels)))\n",
    "print(\"F1-score: {:.1%}\".format(f1_score(train_actual_labels, train_pred_labels)))\n",
    "print(\"precision: {:.1%}\".format(precision_score(train_actual_labels, train_pred_labels)))\n",
    "print(\"recall_score: {:.1%}\".format(recall_score(train_actual_labels, train_pred_labels)))"
   ]
  },
  {
   "cell_type": "code",
   "execution_count": 45,
   "metadata": {
    "colab": {
     "base_uri": "https://localhost:8080/"
    },
    "id": "1QsXoEfTAW47",
    "outputId": "9ea3b783-3f75-4c66-9bba-0d13f468a8d3"
   },
   "outputs": [
    {
     "name": "stdout",
     "output_type": "stream",
     "text": [
      "F1-score: 51.9%\n",
      "F1-score: 80.0%\n"
     ]
    }
   ],
   "source": [
    "print(\"F1-score: {:.1%}\".format(f1_score(dev_actual_labels, dev_pred_labels)))\n",
    "print(\"F1-score: {:.1%}\".format(f1_score(train_actual_labels, train_pred_labels)))"
   ]
  },
  {
   "cell_type": "code",
   "execution_count": 46,
   "metadata": {
    "id": "_t3C4HYlUrbH"
   },
   "outputs": [],
   "source": [
    "model.save(\"model_ner.h5\")"
   ]
  },
  {
   "cell_type": "code",
   "execution_count": 47,
   "metadata": {
    "colab": {
     "base_uri": "https://localhost:8080/"
    },
    "id": "niZ3BvQWBawT",
    "outputId": "764b0b0e-c848-4e16-ed2c-cb287a043172"
   },
   "outputs": [
    {
     "name": "stdout",
     "output_type": "stream",
     "text": [
      "              precision    recall  f1-score   support\n",
      "\n",
      "    LOCATION       0.81      0.89      0.85     11173\n",
      "ORGANIZATION       0.73      0.82      0.77      8089\n",
      "      PERSON       0.89      0.91      0.90      8237\n",
      "  PERSONTYPE       0.63      0.62      0.63      3625\n",
      "     PRODUCT       0.59      0.64      0.61      2862\n",
      "\n",
      "   micro avg       0.77      0.83      0.80     33986\n",
      "   macro avg       0.73      0.78      0.75     33986\n",
      "weighted avg       0.77      0.83      0.80     33986\n",
      "\n"
     ]
    }
   ],
   "source": [
    "print(classification_report(train_actual_labels, train_pred_labels))"
   ]
  },
  {
   "cell_type": "code",
   "execution_count": 48,
   "metadata": {
    "colab": {
     "base_uri": "https://localhost:8080/"
    },
    "id": "MBJ9UuAlGRK9",
    "outputId": "f38e76a6-75b4-46a3-887a-b1e5d0666473"
   },
   "outputs": [
    {
     "name": "stdout",
     "output_type": "stream",
     "text": [
      "79/79 [==============================] - 9s 110ms/step - loss: 0.1162 - accuracy: 0.9747\n"
     ]
    },
    {
     "data": {
      "text/plain": [
       "[0.11623629182577133, 0.9746677279472351]"
      ]
     },
     "execution_count": 48,
     "metadata": {},
     "output_type": "execute_result"
    }
   ],
   "source": [
    "model.evaluate(X_dev, np.array(y_dev))"
   ]
  },
  {
   "cell_type": "code",
   "execution_count": 49,
   "metadata": {
    "colab": {
     "base_uri": "https://localhost:8080/"
    },
    "id": "np-yoK_RGUJC",
    "outputId": "72755aba-9b56-423a-8229-2f4c081b176d"
   },
   "outputs": [
    {
     "name": "stdout",
     "output_type": "stream",
     "text": [
      "1/1 [==============================] - 0s 68ms/step\n",
      "Word           ||True ||Pred\n",
      "==============================\n",
      "1.6.1931       : I-LOCATION I-LOCATION\n",
      ".com           : I-LOCATION I-LOCATION\n",
      "lýsau          : I-LOCATION I-LOCATION\n",
      "Ngữ            : I-LOCATION I-LOCATION\n",
      "3-6-2017       : I-LOCATION I-LOCATION\n",
      "QS             : I-LOCATION I-LOCATION\n",
      "lỳ             : I-LOCATION I-LOCATION\n",
      "Hạt            : I-ORGANIZATION B-PERSONTYPE\n",
      "H.T.P.         : B-LOCATION B-LOCATION\n",
      "văn            : I-LOCATION I-LOCATION\n",
      "soi            : I-ORGANIZATION I-ORGANIZATION\n",
      "129/46         : B-LOCATION B-PERSONTYPE\n",
      "lưu            : B-LOCATION B-LOCATION\n",
      "lẽ             : B-LOCATION B-LOCATION\n",
      "lỳ             : I-LOCATION I-LOCATION\n",
      "SĐT:           : I-ORGANIZATION I-ORGANIZATION\n",
      "Third          : B-LOCATION B-LOCATION\n",
      "1.500.000.000  : B-LOCATION B-LOCATION\n",
      "Mầm            : B-LOCATION B-LOCATION\n",
      "lỳ             : I-LOCATION I-LOCATION\n",
      "miết           : I-ORGANIZATION I-ORGANIZATION\n",
      "308.172        : B-LOCATION B-LOCATION\n",
      "lỳ             : I-LOCATION I-LOCATION\n",
      "'kẹo           : I-ORGANIZATION I-ORGANIZATION\n",
      "Vogt-Roberts   : B-LOCATION B-LOCATION\n",
      "ISP            : I-LOCATION I-LOCATION\n",
      ")              : I-LOCATION I-LOCATION\n",
      "2,77           : I-LOCATION I-LOCATION\n",
      "ảo             : I-LOCATION I-LOCATION\n",
      "khung          : I-LOCATION I-LOCATION\n",
      ".com           : I-LOCATION I-LOCATION\n",
      "chệch          : I-LOCATION I-LOCATION\n",
      "hẳn            : I-LOCATION I-LOCATION\n",
      "Ngữ            : I-LOCATION I-LOCATION\n",
      "3-6-2017       : I-LOCATION I-LOCATION\n",
      "QS             : I-LOCATION I-LOCATION\n",
      "ngoái          : I-LOCATION I-LOCATION\n",
      ".com           : I-LOCATION I-LOCATION\n",
      "Sub-6GHz       : I-LOCATION I-LOCATION\n",
      "1522           : I-LOCATION I-LOCATION\n",
      "đãi            : I-LOCATION I-LOCATION\n",
      "soda           : I-LOCATION I-LOCATION\n",
      "Matip          : I-LOCATION I-LOCATION\n",
      "xót            : I-LOCATION I-LOCATION\n",
      "VTV3           : I-LOCATION I-LOCATION\n",
      "lỳ             : I-LOCATION I-LOCATION\n",
      "Prachan        : I-LOCATION I-LOCATION\n",
      "tử.            : I-LOCATION I-LOCATION\n",
      "lỳ             : I-LOCATION I-LOCATION\n",
      "Prachan        : I-LOCATION I-LOCATION\n",
      "ADF            : I-LOCATION I-LOCATION\n",
      "lỳ             : I-LOCATION I-LOCATION\n",
      "hí             : I-LOCATION I-LOCATION\n",
      "0,19           : I-LOCATION I-LOCATION\n",
      "5/2019         : I-LOCATION I-LOCATION\n",
      "ĐT.741         : I-LOCATION I-LOCATION\n",
      "cội            : I-LOCATION I-LOCATION\n",
      "lỳ             : I-LOCATION I-LOCATION\n",
      "lýsau          : I-LOCATION I-LOCATION\n",
      "Ngăn           : I-LOCATION I-LOCATION\n",
      "Ngăn           : I-LOCATION I-LOCATION\n",
      ")              : I-LOCATION I-LOCATION\n",
      "chệch          : I-LOCATION I-LOCATION\n",
      "hẳn            : I-LOCATION I-LOCATION\n",
      "khỉnh          : I-LOCATION I-LOCATION\n",
      "Rome           : I-LOCATION I-LOCATION\n",
      "mốc            : I-LOCATION I-LOCATION\n",
      "Trứng          : I-LOCATION I-LOCATION\n",
      "lỳ             : I-LOCATION I-LOCATION\n",
      "Ngăn           : I-LOCATION I-LOCATION\n",
      "Fulgencio      : I-LOCATION I-LOCATION\n",
      "Mobil          : I-LOCATION I-LOCATION\n",
      ".com           : I-LOCATION I-LOCATION\n",
      "cấn            : I-LOCATION I-LOCATION\n",
      "50-60cm        : I-LOCATION I-LOCATION\n",
      "Ngữ            : I-LOCATION I-LOCATION\n",
      "3-6-2017       : I-LOCATION I-LOCATION\n",
      "Egerton        : I-LOCATION I-LOCATION\n",
      "–              : I-ORGANIZATION I-ORGANIZATION\n",
      "cover          : B-LOCATION B-LOCATION\n",
      "lỳ             : I-LOCATION I-LOCATION\n",
      "P.O            : I-LOCATION I-LOCATION\n",
      "Never          : I-LOCATION I-LOCATION\n",
      "KHÍ            : I-LOCATION I-LOCATION\n",
      "2002           : I-LOCATION I-LOCATION\n",
      "Rec            : I-LOCATION I-LOCATION\n",
      "Ngăn           : I-LOCATION I-LOCATION\n",
      "lội            : I-LOCATION I-LOCATION\n",
      "Hip            : I-LOCATION I-LOCATION\n",
      "TỔNG           : I-LOCATION I-LOCATION\n",
      "mùng           : I-LOCATION I-LOCATION\n",
      ".com           : I-LOCATION I-LOCATION\n",
      "Sub-6GHz       : I-LOCATION I-LOCATION\n",
      ")              : I-LOCATION I-LOCATION\n",
      "tung           : I-LOCATION I-LOCATION\n",
      "In             : I-LOCATION I-LOCATION\n",
      "2006-2020      : I-LOCATION I-LOCATION\n",
      "Thăng          : I-LOCATION I-LOCATION\n",
      "mật            : I-LOCATION I-LOCATION\n",
      "Never          : I-LOCATION I-LOCATION\n"
     ]
    }
   ],
   "source": [
    "i = 1\n",
    "p = model.predict(np.array([X_dev[i]]))\n",
    "p = np.argmax(p, axis=-1)\n",
    "true = np.argmax(y_dev[i], -1)\n",
    "print(\"{:15}||{:5}||{}\".format(\"Word\", \"True\", \"Pred\"))\n",
    "print(30 * \"=\")\n",
    "for w, t, pred in zip(X_dev[i], true, p[0]):\n",
    "    if w != 0:\n",
    "        print(\"{:15}: {:5} {}\".format(words[w-1], tags[t], tags[pred]))"
   ]
  },
  {
   "cell_type": "code",
   "execution_count": 50,
   "metadata": {
    "colab": {
     "base_uri": "https://localhost:8080/"
    },
    "id": "hOxr3e8nSds6",
    "outputId": "7ddf8310-8c34-435c-c700-8b215dbf696f"
   },
   "outputs": [
    {
     "name": "stdout",
     "output_type": "stream",
     "text": [
      "1/1 [==============================] - 1s 643ms/step\n",
      "Gần            : O    \n",
      "một            : O    \n",
      "tuần           : O    \n",
      "trước          : O    \n",
      "TP             : B-LOCATION\n",
      "Hà             : I-LOCATION\n",
      "Nội            : I-LOCATION\n",
      "bắt            : O    \n",
      "đầu            : O    \n",
      "tổng           : O    \n",
      "kiểm           : O    \n",
      "tra            : O    \n",
      "xử             : O    \n",
      "lý             : O    \n",
      "vi             : O    \n",
      "phạm           : O    \n",
      "về             : O    \n",
      "trật           : O    \n",
      "tự             : O    \n",
      "an             : O    \n",
      "toàn           : O    \n",
      "giao           : O    \n",
      "thông          : O    \n",
      "trật           : O    \n",
      "tự             : O    \n",
      "đô             : O    \n",
      "thị            : O    \n",
      "trật           : O    \n",
      "tự             : O    \n",
      "công           : O    \n",
      "cộng           : O    \n",
      "trên           : O    \n",
      "địa            : O    \n",
      "bàn            : O    \n",
      "\n"
     ]
    }
   ],
   "source": [
    "sentence = \"Gần một tuần trước, TP Hà Nội bắt đầu tổng kiểm tra, xử lý vi phạm về trật tự an toàn giao thông, trật tự đô thị, trật tự công cộng trên địa bàn.\"\n",
    "re_tok = re.compile(f\"([{string.punctuation}“”¨«»®´·º½¾¿¡§£₤‘’])\")\n",
    "sentence = re_tok.sub(r\"  \", sentence).split()\n",
    "\n",
    "padded_sentence = sentence + [word2idx[\"--PADDING--\"]] * (100 - len(sentence))\n",
    "padded_sentence = [word2idx.get(w, 0) for w in padded_sentence]\n",
    "\n",
    "pred = model.predict(np.array([padded_sentence]))\n",
    "pred = np.argmax(pred, axis=-1)\n",
    "\n",
    "retval = \"\"\n",
    "for w, p in zip(sentence, pred[0]):\n",
    "    retval = retval + \"{:15}: {:5}\".format(w, index2tag[p]) + \"\\n\"\n",
    "print(retval)"
   ]
  },
  {
   "cell_type": "code",
   "execution_count": 51,
   "metadata": {
    "id": "4VCWCUZvTK8-"
   },
   "outputs": [],
   "source": [
    "data_test\n",
    "getter_test = SentenceGetter(data_test)\n",
    "sent_test = getter_test.get_next()\n",
    "sentences_test = getter_test.sentences"
   ]
  },
  {
   "cell_type": "code",
   "execution_count": 52,
   "metadata": {
    "id": "mYS-SW9g5nwh"
   },
   "outputs": [],
   "source": [
    "def senten(i):\n",
    "  k = []\n",
    "  for t in sentences_test[i]:\n",
    "    k.append(t[0])\n",
    "    m = \" \".join(k)\n",
    "  return m"
   ]
  },
  {
   "cell_type": "code",
   "execution_count": 53,
   "metadata": {
    "colab": {
     "base_uri": "https://localhost:8080/"
    },
    "id": "QKjun4p_WR7O",
    "outputId": "2f27b3ee-f773-4a5e-e3bc-03b20b2fbe6d"
   },
   "outputs": [
    {
     "data": {
      "text/plain": [
       "4309"
      ]
     },
     "execution_count": 53,
     "metadata": {},
     "output_type": "execute_result"
    }
   ],
   "source": [
    "len(sentences_test)"
   ]
  },
  {
   "cell_type": "code",
   "execution_count": 54,
   "metadata": {
    "id": "vYQK-08PWNzm"
   },
   "outputs": [],
   "source": [
    "import random "
   ]
  },
  {
   "cell_type": "code",
   "execution_count": 55,
   "metadata": {
    "colab": {
     "base_uri": "https://localhost:8080/"
    },
    "id": "q8PV1-rnVi_G",
    "outputId": "16fa0b6c-0c30-499f-dcee-f5a265f85dd9"
   },
   "outputs": [
    {
     "name": "stdout",
     "output_type": "stream",
     "text": [
      "1/1 [==============================] - 0s 72ms/step\n",
      "Sau            : O    \n",
      "khi            : O    \n",
      "có             : O    \n",
      "thông          : O    \n",
      "tin            : O    \n",
      "Ủy             : B-ORGANIZATION\n",
      "ban            : I-ORGANIZATION\n",
      "nhân           : I-ORGANIZATION\n",
      "dân            : I-ORGANIZATION\n",
      "huyện          : I-ORGANIZATION\n",
      "An             : I-ORGANIZATION\n",
      "Dương          : I-ORGANIZATION\n",
      "đã             : O    \n",
      "thành          : O    \n",
      "lập            : O    \n",
      "đoàn           : O    \n",
      "kiểm           : O    \n",
      "tra            : O    \n",
      "công           : O    \n",
      "tác            : O    \n",
      "quản           : O    \n",
      "lý             : O    \n",
      "thu            : O    \n",
      "chi            : O    \n",
      "và             : O    \n",
      "các            : O    \n",
      "khoản          : O    \n",
      "đóng           : O    \n",
      "góp            : O    \n",
      "của            : O    \n",
      "cha            : O    \n",
      "mẹ             : O    \n",
      "học            : O    \n",
      "sinh           : O    \n",
      "đầu            : O    \n",
      "năm            : O    \n",
      "học            : O    \n",
      "2017           : O    \n",
      "2018           : O    \n",
      "công           : O    \n",
      "tác            : O    \n",
      "quản           : O    \n",
      "lý             : O    \n",
      "sử             : O    \n",
      "dụng           : O    \n",
      "viên           : O    \n",
      "chức           : O    \n",
      "và             : O    \n",
      "lao            : O    \n",
      "động           : O    \n",
      "hợp            : O    \n",
      "đồng           : O    \n",
      "tại            : O    \n",
      "Trường         : B-ORGANIZATION\n",
      "tiểu           : I-LOCATION\n",
      "học            : I-ORGANIZATION\n",
      "Đặng           : B-PERSON\n",
      "Cương          : I-PERSON\n",
      "\n"
     ]
    }
   ],
   "source": [
    "i = random.randint(1, 4308)\n",
    "sentence = str(senten(i))\n",
    "re_tok = re.compile(f\"([{string.punctuation}“”¨«»®´·º½¾¿¡§£₤‘’])\")\n",
    "sentence = re_tok.sub(r\"  \", sentence).split()\n",
    "\n",
    "padded_sentence = sentence + [word2idx[\"--PADDING--\"]] * (100 - len(sentence))\n",
    "padded_sentence = [word2idx.get(w, 0) for w in padded_sentence]\n",
    "\n",
    "pred = model.predict(np.array([padded_sentence]))\n",
    "pred = np.argmax(pred, axis=-1)\n",
    "\n",
    "retval = \"\"\n",
    "for w, p in zip(sentence, pred[0]):\n",
    "    retval = retval + \"{:15}: {:5}\".format(w, index2tag[p]) + \"\\n\"\n",
    "print(retval)"
   ]
  },
  {
   "cell_type": "code",
   "execution_count": 56,
   "metadata": {
    "id": "fKCZMboGTM6-"
   },
   "outputs": [],
   "source": [
    "X_test = [[word2idx[w[0]] for w in s] for s in sentences_test]\n",
    "X_test = pad_sequences(maxlen=max_len, sequences=X_test, padding=\"post\", value=n_words-1)\n",
    "\n",
    "# pad the target - dev sample\n",
    "y_test = [[tag2idx[w[1]] for w in s] for s in sentences_test]\n",
    "y_test = pad_sequences(maxlen=max_len, sequences=y_test, padding=\"post\", value=tag2idx[\"O\"])\n",
    "\n",
    "y_test = [to_categorical(i, num_classes=n_tags+1) for i in y_test]"
   ]
  },
  {
   "cell_type": "code",
   "execution_count": 57,
   "metadata": {
    "colab": {
     "base_uri": "https://localhost:8080/"
    },
    "id": "0qp0b1KyTQ53",
    "outputId": "da185632-f4f2-4c6b-e272-a55d12bbc6f7"
   },
   "outputs": [
    {
     "name": "stdout",
     "output_type": "stream",
     "text": [
      "135/135 [==============================] - 14s 103ms/step\n"
     ]
    }
   ],
   "source": [
    "test_pred = model.predict(X_test, verbose=1)"
   ]
  },
  {
   "cell_type": "code",
   "execution_count": 58,
   "metadata": {
    "id": "NGe4NY8ETSuB"
   },
   "outputs": [],
   "source": [
    "test_pred_labels = pred2label(test_pred)\n",
    "test_actual_labels = pred2label(y_test)"
   ]
  },
  {
   "cell_type": "code",
   "execution_count": 59,
   "metadata": {
    "colab": {
     "base_uri": "https://localhost:8080/"
    },
    "id": "zPIcHBPOTVqQ",
    "outputId": "25359cb8-e85e-4ac8-95d0-5b6b2ed4c79f"
   },
   "outputs": [
    {
     "name": "stdout",
     "output_type": "stream",
     "text": [
      "F1-score: 49.8%\n"
     ]
    }
   ],
   "source": [
    "print(\"F1-score: {:.1%}\".format(f1_score(test_actual_labels, test_pred_labels)))"
   ]
  },
  {
   "cell_type": "code",
   "execution_count": 60,
   "metadata": {
    "colab": {
     "base_uri": "https://localhost:8080/"
    },
    "id": "aSflWI59TX5f",
    "outputId": "43bd0894-3330-4764-e7ef-b97ed843186a"
   },
   "outputs": [
    {
     "name": "stdout",
     "output_type": "stream",
     "text": [
      "              precision    recall  f1-score   support\n",
      "\n",
      "    LOCATION       0.59      0.68      0.63      2268\n",
      "ORGANIZATION       0.49      0.41      0.44      2400\n",
      "      PERSON       0.67      0.46      0.55      2890\n",
      "  PERSONTYPE       0.45      0.42      0.43       945\n",
      "     PRODUCT       0.25      0.20      0.23      1071\n",
      "\n",
      "   micro avg       0.53      0.47      0.50      9574\n",
      "   macro avg       0.49      0.44      0.46      9574\n",
      "weighted avg       0.53      0.47      0.49      9574\n",
      "\n"
     ]
    }
   ],
   "source": [
    "print(classification_report(test_actual_labels, test_pred_labels))"
   ]
  }
 ],
 "metadata": {
  "colab": {
   "gpuType": "T4",
   "provenance": []
  },
  "kernelspec": {
   "display_name": "Python 3 (ipykernel)",
   "language": "python",
   "name": "python3"
  },
  "language_info": {
   "codemirror_mode": {
    "name": "ipython",
    "version": 3
   },
   "file_extension": ".py",
   "mimetype": "text/x-python",
   "name": "python",
   "nbconvert_exporter": "python",
   "pygments_lexer": "ipython3",
   "version": "3.9.7"
  }
 },
 "nbformat": 4,
 "nbformat_minor": 1
}
